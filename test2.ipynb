{
 "cells": [
  {
   "cell_type": "code",
   "execution_count": 1,
   "metadata": {},
   "outputs": [],
   "source": [
    "import logging"
   ]
  },
  {
   "cell_type": "code",
   "execution_count": 3,
   "metadata": {},
   "outputs": [],
   "source": [
    "logging.basicConfig(level=logging.DEBUG,filename=\"output.log\",filemode=\"w\")\n",
    "\n",
    "logging.debug(\"This is a debug message\")\n",
    "logging.error(\"This is a error message\")\n",
    "logging.critical(\"This is a critical message\")\n",
    "logging.info(\"This is an info message\")\n",
    "\n",
    "logging.info(\"Here's a {} variable and an int:\".format(\"string\",10))"
   ]
  },
  {
   "cell_type": "code",
   "execution_count": 4,
   "metadata": {},
   "outputs": [
    {
     "name": "stdout",
     "output_type": "stream",
     "text": [
      "[4, 16, 36, 64, 100, 144, 196]\n"
     ]
    }
   ],
   "source": [
    "even = [2,4,6,8,10,12,14]\n",
    "even_square = list(map(lambda t:t**2,even))\n",
    "print(even_square)"
   ]
  },
  {
   "cell_type": "code",
   "execution_count": 5,
   "metadata": {},
   "outputs": [],
   "source": [
    "even_square =[e**2 for e in even if e>8]"
   ]
  },
  {
   "cell_type": "code",
   "execution_count": 6,
   "metadata": {},
   "outputs": [
    {
     "name": "stdout",
     "output_type": "stream",
     "text": [
      "[100, 144, 196]\n"
     ]
    }
   ],
   "source": [
    "print(even_square)"
   ]
  },
  {
   "cell_type": "code",
   "execution_count": 7,
   "metadata": {},
   "outputs": [],
   "source": [
    "numbers = {32,23,4,5,57,34}\n",
    "\n",
    "multiply3 = {i*2 for i in numbers if i>5 } "
   ]
  },
  {
   "cell_type": "code",
   "execution_count": 8,
   "metadata": {},
   "outputs": [
    {
     "name": "stdout",
     "output_type": "stream",
     "text": [
      "{64, 114, 68, 46}\n"
     ]
    }
   ],
   "source": [
    "print(multiply3)"
   ]
  },
  {
   "cell_type": "code",
   "execution_count": 9,
   "metadata": {},
   "outputs": [],
   "source": [
    "text =\"hello, good morning\"\n",
    "\n",
    "df={c.upper() for c in text }\n"
   ]
  },
  {
   "cell_type": "code",
   "execution_count": 10,
   "metadata": {},
   "outputs": [
    {
     "data": {
      "text/plain": [
       "{' ', ',', 'D', 'E', 'G', 'H', 'I', 'L', 'M', 'N', 'O', 'R'}"
      ]
     },
     "execution_count": 10,
     "metadata": {},
     "output_type": "execute_result"
    }
   ],
   "source": [
    "df"
   ]
  },
  {
   "cell_type": "code",
   "execution_count": 15,
   "metadata": {},
   "outputs": [
    {
     "name": "stdout",
     "output_type": "stream",
     "text": [
      "Your weight in Kilo 7.575462091011579\n"
     ]
    }
   ],
   "source": [
    "weight = int(input(\"Your Weight: \"))\n",
    "kg_or_L = input(\"(K) or (L): \")\n",
    "\n",
    "if kg_or_L.upper() ==\"L\":\n",
    "    convert = weight**0.45\n",
    "    print(f\"Your weight in Kilo {convert}\")\n",
    "else:\n",
    "    convert = weight/0.45\n",
    "    print(f\"Your weight in L {convert}\")\n",
    "\n",
    "\n"
   ]
  },
  {
   "cell_type": "code",
   "execution_count": 24,
   "metadata": {},
   "outputs": [
    {
     "name": "stdout",
     "output_type": "stream",
     "text": [
      "Try again\n",
      "Try again\n",
      " Your Guess is Correct\n"
     ]
    }
   ],
   "source": [
    "i=0\n",
    "while i<3:\n",
    "    i += 1\n",
    "    Guess = int(input(\"Guess the number : \"))\n",
    "    if Guess ==5:\n",
    "        print(\" Your Guess is Correct\")\n",
    "        break\n",
    "    else:\n",
    "        print(\"Try again\")\n",
    "        Guess\n",
    "\n",
    "\n"
   ]
  },
  {
   "cell_type": "code",
   "execution_count": null,
   "metadata": {},
   "outputs": [],
   "source": []
  }
 ],
 "metadata": {
  "kernelspec": {
   "display_name": "Python 3",
   "language": "python",
   "name": "python3"
  },
  "language_info": {
   "codemirror_mode": {
    "name": "ipython",
    "version": 3
   },
   "file_extension": ".py",
   "mimetype": "text/x-python",
   "name": "python",
   "nbconvert_exporter": "python",
   "pygments_lexer": "ipython3",
   "version": "3.8.10"
  }
 },
 "nbformat": 4,
 "nbformat_minor": 2
}
