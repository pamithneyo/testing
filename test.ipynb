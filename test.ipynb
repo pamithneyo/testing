{
 "cells": [
  {
   "cell_type": "code",
   "execution_count": 3,
   "metadata": {},
   "outputs": [
    {
     "name": "stdout",
     "output_type": "stream",
     "text": [
      "hi\n"
     ]
    }
   ],
   "source": [
    "print(\"hi\")"
   ]
  },
  {
   "cell_type": "code",
   "execution_count": 92,
   "metadata": {},
   "outputs": [
    {
     "name": "stdout",
     "output_type": "stream",
     "text": [
      "{'a': 2, 'z': 1, 'b': 3, 'c': 1, 'd': 1}\n"
     ]
    }
   ],
   "source": [
    "my_list = ['a', 'a', 'z', 'b', 'b', 'c', 'b', 'd']\n",
    "a = {}\n",
    "for i in my_list:\n",
    "    if i not in a:\n",
    "        a[i]= 0\n",
    "        for j in my_list:\n",
    "            if i==j:\n",
    "                count=1\n",
    "                a[i] = a[i]+ count \n",
    "                \n",
    "            \n",
    "                \n",
    "print(a)"
   ]
  },
  {
   "cell_type": "code",
   "execution_count": 25,
   "metadata": {},
   "outputs": [
    {
     "name": "stdout",
     "output_type": "stream",
     "text": [
      "x > y : 422 is greater than 73\n"
     ]
    }
   ],
   "source": [
    "x = 422\n",
    "y = 73\n",
    "if x > y:\n",
    "    print('x > y : {} is greater than {}'.format(x,y))\n"
   ]
  },
  {
   "cell_type": "code",
   "execution_count": 30,
   "metadata": {},
   "outputs": [
    {
     "name": "stdout",
     "output_type": "stream",
     "text": [
      "one\n",
      "two\n",
      "three\n",
      "four\n",
      "five\n"
     ]
    }
   ],
   "source": [
    "words = [\"one\",\"two\",\"three\",\"four\",\"five\"]\n",
    "n=0\n",
    "while (n < 5):\n",
    "    print (words[n])\n",
    "    n += 1\n"
   ]
  },
  {
   "cell_type": "code",
   "execution_count": 32,
   "metadata": {},
   "outputs": [
    {
     "name": "stdout",
     "output_type": "stream",
     "text": [
      "1 1 2 3 5 8 13 21 34 55 89 144 233 377 610 987 "
     ]
    }
   ],
   "source": [
    "a,b= 0,1\n",
    "while b < 1000:\n",
    "    print(b, end=' ',flush = True)\n",
    "    a , b = b, a+b"
   ]
  },
  {
   "cell_type": "code",
   "execution_count": 49,
   "metadata": {},
   "outputs": [
    {
     "name": "stdout",
     "output_type": "stream",
     "text": [
      "walk like a duck\n",
      "quack\n"
     ]
    }
   ],
   "source": [
    "class Duck:\n",
    "    walking = \"walk like a duck\"\n",
    "    sound = \"quack\"\n",
    "\n",
    "    def quack(self):\n",
    "        print(self.walking)\n",
    "\n",
    "    def walk(self):\n",
    "        print(self.sound)\n",
    "\n",
    "def main():\n",
    "    donald = Duck()\n",
    "    donald.quack()\n",
    "    donald.walk()\n",
    "\n",
    "if __name__== '__main__':main()"
   ]
  },
  {
   "cell_type": "code",
   "execution_count": 50,
   "metadata": {},
   "outputs": [
    {
     "name": "stdout",
     "output_type": "stream",
     "text": [
      "i is 1\n",
      "i is 2\n",
      "i is 3\n",
      "i is 4\n",
      "i is 5\n",
      "i is 6\n"
     ]
    }
   ],
   "source": [
    "x = [1,2,3,4,5,6]\n",
    "for i in x:\n",
    "    print('i is {}'.format(i))"
   ]
  },
  {
   "cell_type": "code",
   "execution_count": 51,
   "metadata": {},
   "outputs": [
    {
     "name": "stdout",
     "output_type": "stream",
     "text": [
      "key:1,values:one\n",
      "key:2,values:two\n",
      "key:3,values:three\n",
      "key:4,values:four\n"
     ]
    }
   ],
   "source": [
    "a={ 1:\"one\",2:\"two\",3:\"three\",4:\"four\"}\n",
    "for k,v in a.items():\n",
    "    print(\"key:{},values:{}\".format(k,v))"
   ]
  },
  {
   "cell_type": "code",
   "execution_count": 105,
   "metadata": {},
   "outputs": [],
   "source": [
    "class Animal:\n",
    "    def __init__(self,**kwargs):\n",
    "        self._name = kwargs[\"name\"] if \"name\" in kwargs else \"Pamith\"\n",
    "        self._type = kwargs[\"type\"] if \"type\" in kwargs else \"silent\"\n",
    "        self._colour = kwargs[\"colour\"] if \"colour\" in kwargs else \"red\"\n",
    "\n",
    "    def name(self):\n",
    "        return self._name\n",
    "\n",
    "    def type(self):\n",
    "        return self._type\n",
    "    \n",
    "    def colour(self):\n",
    "        return self._colour\n",
    "    \n",
    "    def __str__(self):\n",
    "        return f' the {self.type()} is \"{self.name()}\" has \"{self.colour()}\" '\n",
    "\n",
    "def main():\n",
    "    a0 = Animal(type = 'kitten', name = 'flufffy',colour= 'red')\n",
    "    print(a0)\n",
    "\n"
   ]
  },
  {
   "cell_type": "code",
   "execution_count": 106,
   "metadata": {},
   "outputs": [
    {
     "name": "stdout",
     "output_type": "stream",
     "text": [
      " the kitten is \"flufffy\" has \"red\" \n"
     ]
    }
   ],
   "source": [
    "main()"
   ]
  },
  {
   "cell_type": "code",
   "execution_count": 109,
   "metadata": {},
   "outputs": [
    {
     "name": "stdout",
     "output_type": "stream",
     "text": [
      "posix\n"
     ]
    }
   ],
   "source": [
    "import sys,os\n",
    "v = sys.platform\n",
    "t = os.name\n",
    "print(t)"
   ]
  },
  {
   "cell_type": "code",
   "execution_count": 111,
   "metadata": {},
   "outputs": [],
   "source": [
    "import sqlite3\n",
    "db = sqlite3.connect('db-api.db')\n",
    "cur = db.cursor()\n",
    "cur.execute(\n",
    "    \"\"\" CREATE TABLE test(\n",
    "    id INTEGER PRIMARY KEY, name TEXT, number INTEGER\n",
    "    )\n",
    "\"\"\"\n",
    "cur.execute(\"\"\"\n",
    "INSERT INTO test(id,name, number) VALUES(1,\"bbb\",34)\n",
    "\"\"\")\n",
    "\n",
    ")"
   ]
  },
  {
   "cell_type": "code",
   "execution_count": 64,
   "metadata": {},
   "outputs": [
    {
     "name": "stdout",
     "output_type": "stream",
     "text": [
      "hello world hello world\n",
      " 4\n",
      "good night\n",
      " 2\n",
      "good morning\n",
      " 3\n"
     ]
    }
   ],
   "source": [
    "df = open('myfile.txt','r')\n",
    "a = df.readlines()\n",
    "\n",
    "c=-1\n",
    "for i in a:\n",
    "    c=c+1\n",
    "    count=0\n",
    "    b = list(a[c])\n",
    "    for j in b:\n",
    "        if j ==\"o\":\n",
    "            count = count +1\n",
    "    print(a[c],count)\n",
    "\n",
    "            \n",
    "    \n",
    "\n",
    "    \n",
    "\n",
    "    \n",
    "\n"
   ]
  },
  {
   "cell_type": "code",
   "execution_count": 53,
   "metadata": {},
   "outputs": [
    {
     "data": {
      "text/plain": [
       "['hello world hello world\\n', 'good night\\n', 'good morning\\n']"
      ]
     },
     "execution_count": 53,
     "metadata": {},
     "output_type": "execute_result"
    }
   ],
   "source": [
    "list(a)"
   ]
  },
  {
   "cell_type": "code",
   "execution_count": 3,
   "metadata": {},
   "outputs": [
    {
     "name": "stdout",
     "output_type": "stream",
     "text": [
      "max 5\n",
      "min 0\n"
     ]
    }
   ],
   "source": [
    "list1=[1,2,3,0,4,5]\n",
    "any(list1)\n",
    "print(\"max\",max(list1))\n",
    "print(\"min\",min(list1))"
   ]
  },
  {
   "cell_type": "code",
   "execution_count": 9,
   "metadata": {},
   "outputs": [
    {
     "name": "stdout",
     "output_type": "stream",
     "text": [
      "1\n",
      "2\n",
      "3\n",
      "4\n"
     ]
    }
   ],
   "source": [
    "days=[1,2,3,4,5,6,7]\n",
    "day_name=[\"Mon\",\"Tue\",\"Wed\",\"Thu\",\"Fri\",\"Sat\",\"Sun\"]\n",
    "i = iter(days)\n",
    "print(next(i))\n",
    "print(next(i))\n",
    "print(next(i))\n",
    "print(next(i))"
   ]
  },
  {
   "cell_type": "code",
   "execution_count": 21,
   "metadata": {},
   "outputs": [
    {
     "name": "stdout",
     "output_type": "stream",
     "text": [
      "hello world hello world\n",
      "\n",
      "good night\n",
      "\n",
      "good morning\n",
      "\n"
     ]
    }
   ],
   "source": [
    "with open(\"myfile.txt\",\"r\") as fp:\n",
    "    for line in iter(fp.readline,\"\"):\n",
    "        print(line)\n"
   ]
  },
  {
   "cell_type": "code",
   "execution_count": 24,
   "metadata": {},
   "outputs": [
    {
     "name": "stdout",
     "output_type": "stream",
     "text": [
      "1 Mon\n",
      "2 Tue\n",
      "3 Wed\n",
      "4 Thu\n",
      "5 Fri\n",
      "6 Sat\n",
      "7 Sun\n"
     ]
    }
   ],
   "source": [
    "for d in range(len(day_name)):\n",
    "    print(d+1, day_name[d])"
   ]
  },
  {
   "cell_type": "code",
   "execution_count": 25,
   "metadata": {},
   "outputs": [
    {
     "name": "stdout",
     "output_type": "stream",
     "text": [
      "1 Mon\n",
      "2 Tue\n",
      "3 Wed\n",
      "4 Thu\n",
      "5 Fri\n",
      "6 Sat\n",
      "7 Sun\n"
     ]
    }
   ],
   "source": [
    "for i,m in enumerate(day_name, start =1):\n",
    "    print(i,m)"
   ]
  },
  {
   "cell_type": "code",
   "execution_count": 26,
   "metadata": {},
   "outputs": [
    {
     "name": "stdout",
     "output_type": "stream",
     "text": [
      "('Mon', 1)\n",
      "('Tue', 2)\n",
      "('Wed', 3)\n",
      "('Thu', 4)\n",
      "('Fri', 5)\n",
      "('Sat', 6)\n",
      "('Sun', 7)\n"
     ]
    }
   ],
   "source": [
    "for i in zip(day_name,days):\n",
    "    print(i)"
   ]
  },
  {
   "cell_type": "code",
   "execution_count": 28,
   "metadata": {},
   "outputs": [
    {
     "name": "stdout",
     "output_type": "stream",
     "text": [
      "Mon = 1\n",
      "Tue = 2\n",
      "Wed = 3\n",
      "Thu = 4\n",
      "Fri = 5\n",
      "Sat = 6\n",
      "Sun = 7\n"
     ]
    }
   ],
   "source": [
    "for i,m in enumerate(zip(day_name,days),start=1):\n",
    "    print(m[0],\"=\",m[1])"
   ]
  },
  {
   "cell_type": "code",
   "execution_count": 42,
   "metadata": {},
   "outputs": [],
   "source": [
    "def addition(*args):\n",
    "    result = 0\n",
    "    for i in args:\n",
    "        result += i\n",
    "    return result"
   ]
  },
  {
   "cell_type": "code",
   "execution_count": 44,
   "metadata": {},
   "outputs": [
    {
     "name": "stdout",
     "output_type": "stream",
     "text": [
      "125\n"
     ]
    }
   ],
   "source": [
    "print(addition(12,23,90))"
   ]
  },
  {
   "cell_type": "code",
   "execution_count": 45,
   "metadata": {},
   "outputs": [
    {
     "name": "stdout",
     "output_type": "stream",
     "text": [
      "[1000, 390, 900, 450]\n"
     ]
    }
   ],
   "source": [
    "total = [100,39,90,45]\n",
    "print(list(map(lambda t: t*10,total)))"
   ]
  },
  {
   "cell_type": "code",
   "execution_count": 49,
   "metadata": {},
   "outputs": [
    {
     "data": {
      "text/plain": [
       "[2, 3, 12, 4]"
      ]
     },
     "execution_count": 49,
     "metadata": {},
     "output_type": "execute_result"
    }
   ],
   "source": [
    "g =[12,2,3,4,4,4,3,2,3,3]\n",
    "w = set(g)\n",
    "list(w)"
   ]
  },
  {
   "cell_type": "code",
   "execution_count": 87,
   "metadata": {},
   "outputs": [],
   "source": [
    "from collections import defaultdict, OrderedDict"
   ]
  },
  {
   "cell_type": "code",
   "execution_count": 81,
   "metadata": {},
   "outputs": [],
   "source": [
    "from collections import Counter\n",
    "\n",
    "class1 = [\"jame\",\"bob\",\"frank\",\"dany\",\"bob\"]\n",
    "class2 = [\"bill\",\"bob\",\"neyo\",\"rayan\"]\n",
    "\n",
    "c1 = Counter(class1)\n",
    "c2 = Counter(class2)\n",
    "\n",
    "c1.subtract(class2)"
   ]
  },
  {
   "cell_type": "code",
   "execution_count": 82,
   "metadata": {},
   "outputs": [
    {
     "name": "stdout",
     "output_type": "stream",
     "text": [
      "[('jame', 1), ('bob', 1), ('frank', 1), ('dany', 1), ('bill', -1), ('neyo', -1), ('rayan', -1)]\n"
     ]
    }
   ],
   "source": [
    "print(c1.most_common())"
   ]
  },
  {
   "cell_type": "code",
   "execution_count": 79,
   "metadata": {},
   "outputs": [
    {
     "name": "stdout",
     "output_type": "stream",
     "text": [
      "9\n"
     ]
    }
   ],
   "source": [
    "print(sum(c1.values()))"
   ]
  },
  {
   "cell_type": "code",
   "execution_count": 93,
   "metadata": {},
   "outputs": [],
   "source": [
    "sport_team = [(\"srilanka\",(12,3)),(\"Australia\",(14,3)),(\"South Africa\",(11,4))]\n",
    "\n",
    "sort_team = sorted(sport_team, key=lambda t: t[1][0], reverse=False)"
   ]
  },
  {
   "cell_type": "code",
   "execution_count": 94,
   "metadata": {},
   "outputs": [
    {
     "name": "stdout",
     "output_type": "stream",
     "text": [
      "[('South Africa', (11, 4)), ('srilanka', (12, 3)), ('Australia', (14, 3))]\n"
     ]
    }
   ],
   "source": [
    "print(sort_team)"
   ]
  },
  {
   "cell_type": "code",
   "execution_count": 95,
   "metadata": {},
   "outputs": [
    {
     "name": "stdout",
     "output_type": "stream",
     "text": [
      "OrderedDict([('South Africa', (11, 4)), ('srilanka', (12, 3)), ('Australia', (14, 3))])\n"
     ]
    }
   ],
   "source": [
    "teams = OrderedDict(sort_team)\n",
    "print(teams)"
   ]
  },
  {
   "cell_type": "code",
   "execution_count": 96,
   "metadata": {},
   "outputs": [
    {
     "name": "stdout",
     "output_type": "stream",
     "text": [
      "top teams South Africa (11, 4)\n"
     ]
    }
   ],
   "source": [
    "tm ,wl =teams.popitem(False) \n",
    "print(\"top teams\",tm,wl)"
   ]
  },
  {
   "cell_type": "code",
   "execution_count": 111,
   "metadata": {},
   "outputs": [
    {
     "data": {
      "text/plain": [
       "collections.deque"
      ]
     },
     "execution_count": 111,
     "metadata": {},
     "output_type": "execute_result"
    }
   ],
   "source": [
    "import collections\n",
    "import string\n",
    "\n",
    "d = collections.deque(string.ascii_lowercase)\n",
    "type(d)"
   ]
  },
  {
   "cell_type": "code",
   "execution_count": 103,
   "metadata": {},
   "outputs": [
    {
     "name": "stdout",
     "output_type": "stream",
     "text": [
      "deque(['a', 'b', 'c', 'd', 'e', 'f', 'g', 'h', 'i', 'j', 'k', 'l', 'm', 'n', 'o', 'p', 'q', 'r', 's', 't', 'u', 'v', 'w', 'x', 'y', 'z', 23])\n"
     ]
    }
   ],
   "source": [
    "print(d)"
   ]
  },
  {
   "cell_type": "code",
   "execution_count": 104,
   "metadata": {},
   "outputs": [],
   "source": [
    "class Person:\n",
    "    def __init__(self):\n",
    "        self.fname = \"Pamith\"\n",
    "        self.lname = \"Rathnayake\"\n",
    "        self.age = 25\n",
    "\n",
    "cls1 = Person()"
   ]
  },
  {
   "cell_type": "code",
   "execution_count": 105,
   "metadata": {},
   "outputs": [
    {
     "name": "stdout",
     "output_type": "stream",
     "text": [
      "<__main__.Person object at 0x7ff698c23ca0>\n"
     ]
    }
   ],
   "source": [
    "print(str(cls1))"
   ]
  },
  {
   "cell_type": "code",
   "execution_count": 106,
   "metadata": {},
   "outputs": [
    {
     "name": "stdout",
     "output_type": "stream",
     "text": [
      "<__main__.Person object at 0x7ff698c23ca0>\n"
     ]
    }
   ],
   "source": [
    "print(repr(cls1))"
   ]
  },
  {
   "cell_type": "code",
   "execution_count": null,
   "metadata": {},
   "outputs": [],
   "source": []
  }
 ],
 "metadata": {
  "kernelspec": {
   "display_name": "Python 3",
   "language": "python",
   "name": "python3"
  },
  "language_info": {
   "codemirror_mode": {
    "name": "ipython",
    "version": 3
   },
   "file_extension": ".py",
   "mimetype": "text/x-python",
   "name": "python",
   "nbconvert_exporter": "python",
   "pygments_lexer": "ipython3",
   "version": "3.8.10"
  }
 },
 "nbformat": 4,
 "nbformat_minor": 2
}
